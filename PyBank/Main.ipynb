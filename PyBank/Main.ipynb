{
 "cells": [
  {
   "cell_type": "code",
   "execution_count": 1,
   "metadata": {},
   "outputs": [],
   "source": [
    "import csv"
   ]
  },
  {
   "cell_type": "code",
   "execution_count": 11,
   "metadata": {},
   "outputs": [],
   "source": [
    "def bank_statement():\n",
    "    with open('PyBankData.csv') as file:\n",
    "        bank_data = csv.reader(file, delimiter=\",\")\n",
    "        next(bank_data)\n",
    "        total_months = 0\n",
    "        total_profit = 0\n",
    "        changes = []\n",
    "        increase = [0,0]\n",
    "        decrease = [0,0]\n",
    "        last_row = 0\n",
    "        for row in bank_data:\n",
    "            profit = int(row[1])\n",
    "            if total_months > 0:\n",
    "                change = profit - last_row\n",
    "                changes.append(change)\n",
    "                if change > int(increase[1]):\n",
    "                    increase = [row[0], row[1]]\n",
    "                if change < int(decrease[1]):\n",
    "                    decrease = [row[0], row[1]]\n",
    "            last_row = profit\n",
    "            total_months += 1\n",
    "            total_profit += profit\n",
    "        avg_change = round(sum(changes)/ len(changes))\n",
    "        print('Financial Analysis')\n",
    "        print('----------------------')\n",
    "        print(f'Total Months: {total_months}')\n",
    "        print(f'Total: ${total_profit}')\n",
    "        print(f'Average Change: ${avg_change}')\n",
    "        print(f'Greatest Increase in Profits: {increase[0]} (${increase[1]})')\n",
    "        print(f'Greatest Decrease in Profits: {decrease[0]} (${decrease[1]})')\n",
    "        return('Financial Analysis')\n",
    "        return('----------------------')\n",
    "        return(f'Total Months: {total_months}')\n",
    "        return(f'Total: ${total_profit}')\n",
    "        return(f'Average Change: ${avg_change}')\n",
    "        return(f'Greatest Increase in Profits: {increase[0]} (${increase[1]})')\n",
    "        return(f'Greatest Decrease in Profits: {decrease[0]} (${decrease[1]})')\n"
   ]
  },
  {
   "cell_type": "code",
   "execution_count": 2,
   "metadata": {},
   "outputs": [
    {
     "ename": "SyntaxError",
     "evalue": "invalid syntax (<ipython-input-2-0aa656195e9a>, line 2)",
     "output_type": "error",
     "traceback": [
      "\u001b[0;36m  File \u001b[0;32m\"<ipython-input-2-0aa656195e9a>\"\u001b[0;36m, line \u001b[0;32m2\u001b[0m\n\u001b[0;31m    file = touch \"pybank.txt\"\u001b[0m\n\u001b[0m                            ^\u001b[0m\n\u001b[0;31mSyntaxError\u001b[0m\u001b[0;31m:\u001b[0m invalid syntax\n"
     ]
    }
   ],
   "source": [
    "output = bank_statement()\n",
    "file = touch \"pybank.txt\"\n",
    "file.write(output)\n",
    "file.close()\n",
    "\n"
   ]
  },
  {
   "cell_type": "code",
   "execution_count": null,
   "metadata": {},
   "outputs": [],
   "source": []
  }
 ],
 "metadata": {
  "kernelspec": {
   "display_name": "Python [default]",
   "language": "python",
   "name": "python3"
  },
  "language_info": {
   "codemirror_mode": {
    "name": "ipython",
    "version": 3
   },
   "file_extension": ".py",
   "mimetype": "text/x-python",
   "name": "python",
   "nbconvert_exporter": "python",
   "pygments_lexer": "ipython3",
   "version": "3.6.5"
  }
 },
 "nbformat": 4,
 "nbformat_minor": 2
}
