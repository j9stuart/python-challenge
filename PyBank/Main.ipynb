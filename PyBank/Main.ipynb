{
 "cells": [
  {
   "cell_type": "code",
   "execution_count": 1,
   "metadata": {},
   "outputs": [],
   "source": [
    "import csv"
   ]
  },
  {
   "cell_type": "code",
   "execution_count": 11,
   "metadata": {},
   "outputs": [],
   "source": [
    "def bank_statement():\n",
    "    with open('PyBankData.csv') as file:\n",
    "        bank_data = csv.reader(file, delimiter=\",\")\n",
    "        next(bank_data)\n",
    "        total_months = 0\n",
    "        total_profit = 0\n",
    "        changes = []\n",
    "        increase = [0,0]\n",
    "        decrease = [0,0]\n",
    "        last_row = 0\n",
    "        for row in bank_data:\n",
    "            profit = int(row[1])\n",
    "            if total_months > 0:\n",
    "                change = profit - last_row\n",
    "                changes.append(change)\n",
    "                if change > int(increase[1]):\n",
    "                    increase = [row[0], row[1]]\n",
    "                if change < int(decrease[1]):\n",
    "                    decrease = [row[0], row[1]]\n",
    "            last_row = profit\n",
    "            total_months += 1\n",
    "            total_profit += profit\n",
    "        avg_change = round(sum(changes)/ len(changes))\n",
    "        print('Financial Analysis')\n",
    "        print('----------------------')\n",
    "        print(f'Total Months: {total_months}')\n",
    "        print(f'Total: ${total_profit}')\n",
    "        print(f'Average Change: ${avg_change}')\n",
    "        print(f'Greatest Increase in Profits: {increase[0]} (${increase[1]})')\n",
    "        print(f'Greatest Decrease in Profits: {decrease[0]} (${decrease[1]})')\n",
    "        return('Financial Analysis')\n",
    "        return('----------------------')\n",
    "        return(f'Total Months: {total_months}')\n",
    "        return(f'Total: ${total_profit}')\n",
    "        return(f'Average Change: ${avg_change}')\n",
    "        return(f'Greatest Increase in Profits: {increase[0]} (${increase[1]})')\n",
    "        return(f'Greatest Decrease in Profits: {decrease[0]} (${decrease[1]})')\n"
   ]
  },
  {
   "cell_type": "code",
   "execution_count": 14,
   "metadata": {},
   "outputs": [
    {
     "name": "stdout",
     "output_type": "stream",
     "text": [
      "Financial Analysis\n",
      "----------------------\n",
      "Total Months: 86\n",
      "Total: $38382578\n",
      "Average Change: $-2315\n",
      "Greatest Increase in Profits: Nov-2016 ($795914)\n",
      "Greatest Decrease in Profits: Jul-2016 ($-1163797)\n"
     ]
    },
    {
     "ename": "FileNotFoundError",
     "evalue": "[Errno 2] No such file or directory: 'pybank.txt'",
     "output_type": "error",
     "traceback": [
      "\u001b[0;31m---------------------------------------------------------------------------\u001b[0m",
      "\u001b[0;31mFileNotFoundError\u001b[0m                         Traceback (most recent call last)",
      "\u001b[0;32m<ipython-input-14-9ab7b3d0e6bf>\u001b[0m in \u001b[0;36m<module>\u001b[0;34m()\u001b[0m\n\u001b[1;32m      1\u001b[0m \u001b[0moutput\u001b[0m \u001b[0;34m=\u001b[0m \u001b[0mbank_statement\u001b[0m\u001b[0;34m(\u001b[0m\u001b[0;34m)\u001b[0m\u001b[0;34m\u001b[0m\u001b[0m\n\u001b[0;32m----> 2\u001b[0;31m \u001b[0mfile\u001b[0m \u001b[0;34m=\u001b[0m \u001b[0mopen\u001b[0m\u001b[0;34m(\u001b[0m\u001b[0;34m\"pybank.txt\"\u001b[0m\u001b[0;34m)\u001b[0m\u001b[0;34m\u001b[0m\u001b[0m\n\u001b[0m\u001b[1;32m      3\u001b[0m \u001b[0mfile\u001b[0m\u001b[0;34m.\u001b[0m\u001b[0mwrite\u001b[0m\u001b[0;34m(\u001b[0m\u001b[0moutput\u001b[0m\u001b[0;34m)\u001b[0m\u001b[0;34m\u001b[0m\u001b[0m\n\u001b[1;32m      4\u001b[0m \u001b[0mfile\u001b[0m\u001b[0;34m.\u001b[0m\u001b[0mclose\u001b[0m\u001b[0;34m(\u001b[0m\u001b[0;34m)\u001b[0m\u001b[0;34m\u001b[0m\u001b[0m\n",
      "\u001b[0;31mFileNotFoundError\u001b[0m: [Errno 2] No such file or directory: 'pybank.txt'"
     ]
    }
   ],
   "source": [
    "output = bank_statement()\n",
    "file = open(\"pybank.txt\")\n",
    "file.write(output)\n",
    "file.close()"
   ]
  },
  {
   "cell_type": "code",
   "execution_count": null,
   "metadata": {},
   "outputs": [],
   "source": []
  }
 ],
 "metadata": {
  "kernelspec": {
   "display_name": "Python [default]",
   "language": "python",
   "name": "python3"
  },
  "language_info": {
   "codemirror_mode": {
    "name": "ipython",
    "version": 3
   },
   "file_extension": ".py",
   "mimetype": "text/x-python",
   "name": "python",
   "nbconvert_exporter": "python",
   "pygments_lexer": "ipython3",
   "version": "3.6.5"
  }
 },
 "nbformat": 4,
 "nbformat_minor": 2
}
