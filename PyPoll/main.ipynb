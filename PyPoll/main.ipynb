{
 "cells": [
  {
   "cell_type": "code",
   "execution_count": 2,
   "metadata": {},
   "outputs": [],
   "source": [
    "import csv"
   ]
  },
  {
   "cell_type": "code",
   "execution_count": 7,
   "metadata": {},
   "outputs": [
    {
     "name": "stdout",
     "output_type": "stream",
     "text": [
      "Election Results\n",
      "---------------------\n",
      "Total Votes: 3521001\n",
      "---------------------\n",
      "Khan: 63.0% (2218231)\n",
      "Correy: 20.0% (704200)\n",
      "Li: 14.0% (492940)\n",
      "O'Tooley: 3.0% (105630)\n",
      "---------------------\n",
      "Winner: Khan\n",
      "---------------------\n"
     ]
    }
   ],
   "source": [
    "with open('PyPollData.csv') as file:\n",
    "    poll_data = csv.reader(file, delimiter=\",\")\n",
    "    next(poll_data)\n",
    "    total_votes = 0\n",
    "    candidates = {}\n",
    "    for row in poll_data:\n",
    "        candidate = row[2]\n",
    "        if candidate not in candidates:\n",
    "            candidates[candidate] = 1\n",
    "        else:\n",
    "            candidates[candidate] += 1\n",
    "        total_votes += 1\n",
    "    print(\"Election Results\")\n",
    "    print(\"---------------------\")\n",
    "    print(f'Total Votes: {total_votes}')\n",
    "    print(\"---------------------\")\n",
    "    for k, v in candidates.items():\n",
    "        print(f'{k}: {round((v/total_votes)*100, 2)}% ({v})')\n",
    "    print(\"---------------------\")\n",
    "    winner = max(candidates.keys(), key=(lambda k: candidates[k]))\n",
    "    print(f'Winner: {winner}')\n",
    "    print(\"---------------------\")\n",
    "    "
   ]
  },
  {
   "cell_type": "code",
   "execution_count": null,
   "metadata": {},
   "outputs": [],
   "source": []
  }
 ],
 "metadata": {
  "kernelspec": {
   "display_name": "Python [conda env:anaconda3]",
   "language": "python",
   "name": "conda-env-anaconda3-py"
  },
  "language_info": {
   "codemirror_mode": {
    "name": "ipython",
    "version": 3
   },
   "file_extension": ".py",
   "mimetype": "text/x-python",
   "name": "python",
   "nbconvert_exporter": "python",
   "pygments_lexer": "ipython3",
   "version": "3.6.5"
  }
 },
 "nbformat": 4,
 "nbformat_minor": 2
}
